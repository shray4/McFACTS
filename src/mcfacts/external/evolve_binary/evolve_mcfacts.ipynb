{
 "cells": [
  {
   "cell_type": "code",
   "execution_count": 1,
   "metadata": {},
   "outputs": [
    {
     "name": "stdout",
     "output_type": "stream",
     "text": [
      "Detected IPython. Loading juliacall extension. See https://juliapy.github.io/PythonCall.jl/stable/compat/#IPython\n",
      "q1\n",
      "q\n",
      "b\n",
      "c\n",
      "y\n",
      "x\n"
     ]
    }
   ],
   "source": [
    "import juliacall\n",
    "import numpy as np\n",
    "import fit_modeler\n",
    "import evolve_binary\n",
    "import pandas as pd\n",
    "\n",
    "np.set_printoptions(legacy='1.13')"
   ]
  },
  {
   "cell_type": "code",
   "execution_count": 2,
   "metadata": {},
   "outputs": [],
   "source": [
    "population = pd.read_csv('/Users/sray/Documents/Saavik_Barry/test_mcfacts/evolve_binary/output_bh_binary_55.dat', delimiter=' ', header = 0)"
   ]
  },
  {
   "cell_type": "code",
   "execution_count": 3,
   "metadata": {},
   "outputs": [
    {
     "data": {
      "text/html": [
       "<div>\n",
       "<style scoped>\n",
       "    .dataframe tbody tr th:only-of-type {\n",
       "        vertical-align: middle;\n",
       "    }\n",
       "\n",
       "    .dataframe tbody tr th {\n",
       "        vertical-align: top;\n",
       "    }\n",
       "\n",
       "    .dataframe thead th {\n",
       "        text-align: right;\n",
       "    }\n",
       "</style>\n",
       "<table border=\"1\" class=\"dataframe\">\n",
       "  <thead>\n",
       "    <tr style=\"text-align: right;\">\n",
       "      <th></th>\n",
       "      <th>orb_a_1</th>\n",
       "      <th>orb_a_2</th>\n",
       "      <th>mass_1</th>\n",
       "      <th>mass_2</th>\n",
       "      <th>spin_1</th>\n",
       "      <th>spin_2</th>\n",
       "      <th>spin_angle_1</th>\n",
       "      <th>spin_angle_2</th>\n",
       "      <th>bin_sep</th>\n",
       "      <th>bin_orb_a</th>\n",
       "      <th>...</th>\n",
       "      <th>time_merged</th>\n",
       "      <th>bin_ecc</th>\n",
       "      <th>gen_1</th>\n",
       "      <th>gen_2</th>\n",
       "      <th>bin_orb_ang_mom</th>\n",
       "      <th>bin_orb_inc</th>\n",
       "      <th>bin_orb_ecc</th>\n",
       "      <th>gw_freq</th>\n",
       "      <th>gw_strain</th>\n",
       "      <th>id_num</th>\n",
       "    </tr>\n",
       "  </thead>\n",
       "  <tbody>\n",
       "    <tr>\n",
       "      <th>0</th>\n",
       "      <td>44565.608813</td>\n",
       "      <td>44698.568660</td>\n",
       "      <td>10.510475</td>\n",
       "      <td>22.847318</td>\n",
       "      <td>-0.125363</td>\n",
       "      <td>-0.027870</td>\n",
       "      <td>2.037367</td>\n",
       "      <td>1.576808</td>\n",
       "      <td>131.068672</td>\n",
       "      <td>45041.809097</td>\n",
       "      <td>...</td>\n",
       "      <td>0.0</td>\n",
       "      <td>0.860597</td>\n",
       "      <td>1.0</td>\n",
       "      <td>1.0</td>\n",
       "      <td>1.0</td>\n",
       "      <td>0.741368</td>\n",
       "      <td>0.011</td>\n",
       "      <td>2.429514e-10</td>\n",
       "      <td>2.532940e-31</td>\n",
       "      <td>208.0</td>\n",
       "    </tr>\n",
       "    <tr>\n",
       "      <th>1</th>\n",
       "      <td>27999.768798</td>\n",
       "      <td>28039.195607</td>\n",
       "      <td>19.410351</td>\n",
       "      <td>26.807664</td>\n",
       "      <td>0.037107</td>\n",
       "      <td>0.063074</td>\n",
       "      <td>0.762779</td>\n",
       "      <td>0.404380</td>\n",
       "      <td>35.933705</td>\n",
       "      <td>28022.637384</td>\n",
       "      <td>...</td>\n",
       "      <td>0.0</td>\n",
       "      <td>0.041883</td>\n",
       "      <td>1.0</td>\n",
       "      <td>1.0</td>\n",
       "      <td>1.0</td>\n",
       "      <td>0.180225</td>\n",
       "      <td>0.011</td>\n",
       "      <td>1.992149e-09</td>\n",
       "      <td>5.732680e-30</td>\n",
       "      <td>210.0</td>\n",
       "    </tr>\n",
       "    <tr>\n",
       "      <th>2</th>\n",
       "      <td>13354.941938</td>\n",
       "      <td>13411.676127</td>\n",
       "      <td>27.850180</td>\n",
       "      <td>11.038404</td>\n",
       "      <td>0.697989</td>\n",
       "      <td>-0.009064</td>\n",
       "      <td>0.000000</td>\n",
       "      <td>1.094391</td>\n",
       "      <td>51.337943</td>\n",
       "      <td>13325.869836</td>\n",
       "      <td>...</td>\n",
       "      <td>0.0</td>\n",
       "      <td>0.603960</td>\n",
       "      <td>2.0</td>\n",
       "      <td>1.0</td>\n",
       "      <td>1.0</td>\n",
       "      <td>0.000000</td>\n",
       "      <td>0.010</td>\n",
       "      <td>1.070095e-09</td>\n",
       "      <td>1.737455e-30</td>\n",
       "      <td>211.0</td>\n",
       "    </tr>\n",
       "    <tr>\n",
       "      <th>3</th>\n",
       "      <td>21310.846852</td>\n",
       "      <td>21397.750026</td>\n",
       "      <td>53.381132</td>\n",
       "      <td>13.547682</td>\n",
       "      <td>0.686014</td>\n",
       "      <td>0.038693</td>\n",
       "      <td>0.000000</td>\n",
       "      <td>0.412239</td>\n",
       "      <td>86.903174</td>\n",
       "      <td>21328.437730</td>\n",
       "      <td>...</td>\n",
       "      <td>0.0</td>\n",
       "      <td>0.871070</td>\n",
       "      <td>2.0</td>\n",
       "      <td>1.0</td>\n",
       "      <td>1.0</td>\n",
       "      <td>0.000000</td>\n",
       "      <td>0.010</td>\n",
       "      <td>6.374148e-10</td>\n",
       "      <td>1.863523e-30</td>\n",
       "      <td>212.0</td>\n",
       "    </tr>\n",
       "  </tbody>\n",
       "</table>\n",
       "<p>4 rows × 22 columns</p>\n",
       "</div>"
      ],
      "text/plain": [
       "        orb_a_1       orb_a_2     mass_1     mass_2    spin_1    spin_2  \\\n",
       "0  44565.608813  44698.568660  10.510475  22.847318 -0.125363 -0.027870   \n",
       "1  27999.768798  28039.195607  19.410351  26.807664  0.037107  0.063074   \n",
       "2  13354.941938  13411.676127  27.850180  11.038404  0.697989 -0.009064   \n",
       "3  21310.846852  21397.750026  53.381132  13.547682  0.686014  0.038693   \n",
       "\n",
       "   spin_angle_1  spin_angle_2     bin_sep     bin_orb_a  ...  time_merged  \\\n",
       "0      2.037367      1.576808  131.068672  45041.809097  ...          0.0   \n",
       "1      0.762779      0.404380   35.933705  28022.637384  ...          0.0   \n",
       "2      0.000000      1.094391   51.337943  13325.869836  ...          0.0   \n",
       "3      0.000000      0.412239   86.903174  21328.437730  ...          0.0   \n",
       "\n",
       "    bin_ecc  gen_1  gen_2  bin_orb_ang_mom  bin_orb_inc  bin_orb_ecc  \\\n",
       "0  0.860597    1.0    1.0              1.0     0.741368        0.011   \n",
       "1  0.041883    1.0    1.0              1.0     0.180225        0.011   \n",
       "2  0.603960    2.0    1.0              1.0     0.000000        0.010   \n",
       "3  0.871070    2.0    1.0              1.0     0.000000        0.010   \n",
       "\n",
       "        gw_freq     gw_strain  id_num  \n",
       "0  2.429514e-10  2.532940e-31   208.0  \n",
       "1  1.992149e-09  5.732680e-30   210.0  \n",
       "2  1.070095e-09  1.737455e-30   211.0  \n",
       "3  6.374148e-10  1.863523e-30   212.0  \n",
       "\n",
       "[4 rows x 22 columns]"
      ]
     },
     "execution_count": 3,
     "metadata": {},
     "output_type": "execute_result"
    }
   ],
   "source": [
    "population"
   ]
  },
  {
   "cell_type": "code",
   "execution_count": 4,
   "metadata": {},
   "outputs": [
    {
     "data": {
      "text/plain": [
       "\"#sorting mass ratios\\nmass_1 = []\\nmass_2 = []\\nfor i in range(len(population['mass_1'])):\\n    if population['mass_1'][i] > population['mass_2'][i]:\\n        mass_1.append(population['mass_1'][i])\\n        mass_2.append(population['mass_2'][i])\\n    else:\\n        mass_1.append(population['mass_2'][i])\\n        mass_2.append(population['mass_1'][i])\\nprint(mass_1)\\nprint(mass_2)\""
      ]
     },
     "execution_count": 4,
     "metadata": {},
     "output_type": "execute_result"
    }
   ],
   "source": [
    "\n",
    "# No longer needed since new surrogate model intakes individual mass values and not the mass ratio\n",
    "\n",
    "'''#sorting mass ratios\n",
    "mass_1 = []\n",
    "mass_2 = []\n",
    "for i in range(len(population['mass_1'])):\n",
    "    if population['mass_1'][i] > population['mass_2'][i]:\n",
    "        mass_1.append(population['mass_1'][i])\n",
    "        mass_2.append(population['mass_2'][i])\n",
    "    else:\n",
    "        mass_1.append(population['mass_2'][i])\n",
    "        mass_2.append(population['mass_1'][i])\n",
    "print(mass_1)\n",
    "print(mass_2)'''"
   ]
  },
  {
   "cell_type": "code",
   "execution_count": 5,
   "metadata": {},
   "outputs": [
    {
     "name": "stdout",
     "output_type": "stream",
     "text": [
      "[[0, 1, 2], [0, 1, 4], [0, 1, 8]]\n"
     ]
    }
   ],
   "source": [
    "test = [[], [], []]\n",
    "for i in range(len(test)):\n",
    "    #test[i].append(i)\n",
    "    test[0].append(i**1)\n",
    "    #y\n",
    "    test[1].append(i**2)\n",
    "    #z\n",
    "    test[2].append(i**3)\n",
    "print(test)"
   ]
  },
  {
   "cell_type": "code",
   "execution_count": null,
   "metadata": {},
   "outputs": [],
   "source": []
  },
  {
   "cell_type": "code",
   "execution_count": 6,
   "metadata": {},
   "outputs": [
    {
     "name": "stdout",
     "output_type": "stream",
     "text": [
      "[[-0.12536294050404401, -0.0, 0.12536294050404401], [0.037107405922282927, 0.0, 0.037107405922282927], [0.69798866435038365, 0.0, 0.69798866435038365], [0.68601396020331862, 0.0, 0.68601396020331862]]\n"
     ]
    }
   ],
   "source": [
    "# Converting spin_1 magnitude values into cartesian values\n",
    "chiA_components = [[] for _ in range(len(population['spin_1']))] \n",
    "theta = 0.0\n",
    "\n",
    "for i in range(len(chiA_components)):\n",
    "    #x component\n",
    "    chiA_components[i].append(population['spin_1'][i] * np.cos(theta))\n",
    "    #y\n",
    "    chiA_components[i].append(population['spin_1'][i] * np.sin(theta))\n",
    "    #z\n",
    "    chiA_components[i].append(np.sqrt((chiA_components[i][0])**2.0 + (chiA_components[i][1])**2.0))\n",
    "    \n",
    "print(chiA_components)"
   ]
  },
  {
   "cell_type": "code",
   "execution_count": 7,
   "metadata": {},
   "outputs": [
    {
     "name": "stdout",
     "output_type": "stream",
     "text": [
      "[[-0.027869839323211215, -0.0, 0.027869839323211215], [0.063073744124955256, 0.0, 0.063073744124955256], [-0.0090636927188756447, -0.0, 0.0090636927188756447], [0.038693434531554861, 0.0, 0.038693434531554861]]\n"
     ]
    }
   ],
   "source": [
    "# Converting spin_2 magnitude values into cartesian values\n",
    "chiA_components = [[] for _ in range(len(population['spin_2']))] \n",
    "theta = 0.0\n",
    "\n",
    "for i in range(len(chiA_components)):\n",
    "    #x component\n",
    "    chiA_components[i].append(population['spin_2'][i] * np.cos(theta))\n",
    "    #y\n",
    "    chiA_components[i].append(population['spin_2'][i] * np.sin(theta))\n",
    "    #z\n",
    "    chiA_components[i].append(np.sqrt((chiA_components[i][0])**2.0 + (chiA_components[i][1])**2.0))\n",
    "    \n",
    "print(chiA_components)"
   ]
  },
  {
   "cell_type": "code",
   "execution_count": 8,
   "metadata": {},
   "outputs": [
    {
     "data": {
      "text/plain": [
       "10.510474631893103"
      ]
     },
     "execution_count": 8,
     "metadata": {},
     "output_type": "execute_result"
    }
   ],
   "source": [
    "population['mass_1'][0]"
   ]
  },
  {
   "cell_type": "code",
   "execution_count": 9,
   "metadata": {},
   "outputs": [
    {
     "name": "stdout",
     "output_type": "stream",
     "text": [
      "0.460558847882\n"
     ]
    }
   ],
   "source": [
    "print(population['spin_angle_1'][0] - population['spin_angle_2'][0])"
   ]
  },
  {
   "cell_type": "code",
   "execution_count": 10,
   "metadata": {},
   "outputs": [],
   "source": [
    "for i in range(len(population['mass_1'])):\n",
    "    mass_1 = population['mass_1'][i]\n",
    "    mass_2 = population['mass_2'][i]\n",
    "    spin_1 = population['spin_1'][i]\n",
    "    spin_2 = population['spin_2'][i]\n",
    "    spin_angle_1 = population['spin_angle_1'][i]\n",
    "    spin_angle_2 = population['spin_angle_2'][i]\n",
    "    phi_12 = population['spin_angle_2'][i] - population['spin_angle_1'][i]\n",
    "    bin_sep = population['bin_sep'][i] * (1.e8 / (mass_1 + mass_2))\n",
    "    bin_orb_inc = [0, 0, 1]"
   ]
  },
  {
   "cell_type": "code",
   "execution_count": 11,
   "metadata": {},
   "outputs": [
    {
     "name": "stdout",
     "output_type": "stream",
     "text": [
      "sur\n"
     ]
    }
   ],
   "source": [
    "print(\"sur\")\n",
    "surrogate = fit_modeler.GPRFitters.read_from_file(f\"surrogate.joblib\")"
   ]
  },
  {
   "cell_type": "code",
   "execution_count": 12,
   "metadata": {},
   "outputs": [
    {
     "name": "stdout",
     "output_type": "stream",
     "text": [
      "53.3811315668\n",
      "\n",
      "13.5476823295\n",
      "\n",
      "0.686013960203\n",
      "\n",
      "0.0386934345316\n",
      "\n",
      "0.0\n",
      "\n",
      "0.412238819355\n",
      "\n",
      "0.412238819355\n",
      "\n",
      "129844186.074\n",
      "\n",
      "[0, 0, 1]\n",
      "\n"
     ]
    }
   ],
   "source": [
    "parameters = [mass_1, mass_2, spin_1, spin_2, spin_angle_1, spin_angle_2, phi_12, bin_sep, bin_orb_inc]\n",
    "for i in parameters:\n",
    "    print(i)\n",
    "    print(\"\")"
   ]
  },
  {
   "cell_type": "code",
   "execution_count": 13,
   "metadata": {},
   "outputs": [
    {
     "name": "stdout",
     "output_type": "stream",
     "text": [
      "e\n",
      "start\n",
      "Evolving binary...\n",
      "chi_1\n",
      "chi_2\n",
      "mass check\n"
     ]
    },
    {
     "name": "stderr",
     "output_type": "stream",
     "text": [
      "┌ Warning: Interrupted. Larger maxiters is needed. If you are using an integrator for non-stiff ODEs or an automatic switching algorithm (the default), you may want to consider using a method for stiff equations. See the solver pages for more details (e.g. https://docs.sciml.ai/DiffEqDocs/stable/solvers/ode_solve/#Stiff-Problems).\n",
      "└ @ SciMLBase ~/.julia/packages/SciMLBase/NtgCQ/src/integrator_interface.jl:589\n"
     ]
    },
    {
     "name": "stdout",
     "output_type": "stream",
     "text": [
      "final\n",
      "real final\n",
      "Evolving binary through merger with surrogate...\n",
      "real ^2 final\n",
      "M_f =  65.4291225742\n",
      "spin_f =  [  4.38346003e-01   3.82077660e-01   2.03482924e+03]\n",
      "v_f =  [ -1.07519672e-04   5.42113865e-04   6.99717987e-07]\n"
     ]
    }
   ],
   "source": [
    "print(\"e\")\n",
    "M_f, spin_f, v_f = evolve_binary.evolve_binary(\n",
    "    mass_1,\n",
    "    mass_2,\n",
    "    spin_1,\n",
    "    spin_2,\n",
    "    spin_angle_1,\n",
    "    spin_angle_2,\n",
    "    phi_12,\n",
    "    bin_sep,\n",
    "    bin_orb_inc,\n",
    "    surrogate,\n",
    "    True,\n",
    ")\n",
    "\n",
    "print(\"M_f = \", M_f)\n",
    "print(\"spin_f = \", spin_f)\n",
    "print(\"v_f = \", v_f)"
   ]
  },
  {
   "cell_type": "code",
   "execution_count": 14,
   "metadata": {},
   "outputs": [],
   "source": [
    "mass_1 = population['mass_1']\n",
    "mass_2 = population['mass_2']\n",
    "spin_1 = population['spin_1']\n",
    "spin_2 = population['spin_2']\n",
    "spin_angle_1 = population['spin_angle_1']\n",
    "spin_angle_2 = population['spin_angle_2']\n",
    "phi_12 = population['spin_angle_2'] - population['spin_angle_1']\n",
    "bin_sep = population['bin_sep'] * (1.e8 / (mass_1 + mass_2))\n",
    "bin_orb_inc = [0, 0, 1]\n",
    "\n",
    "mass_final = []\n",
    "spin_final = []\n",
    "velocity_final =[]"
   ]
  },
  {
   "cell_type": "code",
   "execution_count": 15,
   "metadata": {},
   "outputs": [],
   "source": [
    "import time"
   ]
  },
  {
   "cell_type": "code",
   "execution_count": 16,
   "metadata": {},
   "outputs": [
    {
     "name": "stdout",
     "output_type": "stream",
     "text": [
      "start\n",
      "Evolving binary...\n",
      "chi_1\n",
      "chi_2\n",
      "mass_1 < mass_2! Flipping black hole labels.\n",
      "mass check\n",
      "final\n",
      "real final\n",
      "Evolving binary through merger with surrogate...\n",
      "real ^2 final\n",
      "M_f =  32.1311587785\n",
      "spin_f =  [ -2.78151394e-02   7.87750535e-03   6.27982820e+02]\n",
      "v_f =  [ -5.45305527e-04   4.69460879e-05  -3.17074791e-07]\n",
      "Merger took  70.17285394668579  seconds\n",
      "start\n",
      "Evolving binary...\n",
      "chi_1\n",
      "chi_2\n",
      "mass_1 < mass_2! Flipping black hole labels.\n",
      "mass check\n"
     ]
    },
    {
     "name": "stderr",
     "output_type": "stream",
     "text": [
      "┌ Warning: Interrupted. Larger maxiters is needed. If you are using an integrator for non-stiff ODEs or an automatic switching algorithm (the default), you may want to consider using a method for stiff equations. See the solver pages for more details (e.g. https://docs.sciml.ai/DiffEqDocs/stable/solvers/ode_solve/#Stiff-Problems).\n",
      "└ @ SciMLBase ~/.julia/packages/SciMLBase/NtgCQ/src/integrator_interface.jl:589\n",
      "┌ Warning: Interrupted. Larger maxiters is needed. If you are using an integrator for non-stiff ODEs or an automatic switching algorithm (the default), you may want to consider using a method for stiff equations. See the solver pages for more details (e.g. https://docs.sciml.ai/DiffEqDocs/stable/solvers/ode_solve/#Stiff-Problems).\n",
      "└ @ SciMLBase ~/.julia/packages/SciMLBase/NtgCQ/src/integrator_interface.jl:589\n"
     ]
    },
    {
     "name": "stdout",
     "output_type": "stream",
     "text": [
      "final\n",
      "real final\n",
      "Evolving binary through merger with surrogate...\n",
      "real ^2 final\n",
      "M_f =  44.0902141221\n",
      "spin_f =  [ -3.17771191e-02   4.27412481e-02   1.30673072e+03]\n",
      "v_f =  [ -1.74211236e-04   2.28311594e-04   7.00961742e-07]\n",
      "Merger took  68.30069518089294  seconds\n",
      "start\n",
      "Evolving binary...\n",
      "chi_1\n",
      "chi_2\n",
      "mass check\n",
      "final\n",
      "real final\n",
      "Evolving binary through merger with surrogate...\n",
      "real ^2 final\n",
      "M_f =  37.6023128663\n",
      "spin_f =  [  1.07589957e-01   4.91494961e-01   8.18189823e+02]\n",
      "v_f =  [ -2.57728487e-04   5.26088575e-04   4.38005357e-06]\n",
      "Merger took  88.90259003639221  seconds\n",
      "start\n",
      "Evolving binary...\n",
      "chi_1\n",
      "chi_2\n",
      "mass check\n"
     ]
    },
    {
     "name": "stderr",
     "output_type": "stream",
     "text": [
      "┌ Warning: Interrupted. Larger maxiters is needed. If you are using an integrator for non-stiff ODEs or an automatic switching algorithm (the default), you may want to consider using a method for stiff equations. See the solver pages for more details (e.g. https://docs.sciml.ai/DiffEqDocs/stable/solvers/ode_solve/#Stiff-Problems).\n",
      "└ @ SciMLBase ~/.julia/packages/SciMLBase/NtgCQ/src/integrator_interface.jl:589\n",
      "┌ Warning: Interrupted. Larger maxiters is needed. If you are using an integrator for non-stiff ODEs or an automatic switching algorithm (the default), you may want to consider using a method for stiff equations. See the solver pages for more details (e.g. https://docs.sciml.ai/DiffEqDocs/stable/solvers/ode_solve/#Stiff-Problems).\n",
      "└ @ SciMLBase ~/.julia/packages/SciMLBase/NtgCQ/src/integrator_interface.jl:589\n"
     ]
    },
    {
     "name": "stdout",
     "output_type": "stream",
     "text": [
      "final\n",
      "real final\n",
      "Evolving binary through merger with surrogate...\n",
      "real ^2 final\n",
      "M_f =  65.4291225742\n",
      "spin_f =  [  4.38346003e-01   3.82077660e-01   2.03482924e+03]\n",
      "v_f =  [ -1.07519672e-04   5.42113865e-04   6.99717987e-07]\n",
      "Merger took  159.93965411186218  seconds\n"
     ]
    }
   ],
   "source": [
    "for i in range(len(mass_1)):\n",
    "    start = time.time()\n",
    "    M_f, spin_f, v_f = evolve_binary.evolve_binary(\n",
    "        mass_1[i],\n",
    "        mass_2[i],\n",
    "        spin_1[i],\n",
    "        spin_2[i],\n",
    "        spin_angle_1[i],\n",
    "        spin_angle_2[i],\n",
    "        phi_12[i],\n",
    "        bin_sep[i],\n",
    "        bin_orb_inc,\n",
    "        surrogate,\n",
    "        True,\n",
    "    )\n",
    "    end = time.time()\n",
    "    \n",
    "    run_time = end - start\n",
    "\n",
    "    mass_final.append(M_f)\n",
    "    spin_final.append(spin_f)\n",
    "    velocity_final.append(v_f)\n",
    "    \n",
    "    print(\"M_f = \", M_f)\n",
    "    print(\"spin_f = \", spin_f)\n",
    "    print(\"v_f = \", v_f)\n",
    "    print(\"Merger took \", run_time, \" seconds\")"
   ]
  },
  {
   "cell_type": "code",
   "execution_count": 17,
   "metadata": {},
   "outputs": [
    {
     "name": "stdout",
     "output_type": "stream",
     "text": [
      "0    3.929177e+08\n",
      "1    7.774826e+07\n",
      "2    1.320129e+08\n",
      "3    1.298442e+08\n",
      "dtype: float64\n"
     ]
    }
   ],
   "source": [
    "print(bin_sep)"
   ]
  },
  {
   "cell_type": "code",
   "execution_count": 22,
   "metadata": {},
   "outputs": [
    {
     "name": "stdout",
     "output_type": "stream",
     "text": [
      "65.4291225742\n",
      "[  4.38346003e-01   3.82077660e-01   2.03482924e+03]\n",
      "[ -1.07519672e-04   5.42113865e-04   6.99717987e-07]\n"
     ]
    }
   ],
   "source": [
    "print(mass_final[-1])\n",
    "print(spin_final[-1])\n",
    "print(velocity_final[-1])"
   ]
  },
  {
   "cell_type": "code",
   "execution_count": null,
   "metadata": {},
   "outputs": [],
   "source": []
  }
 ],
 "metadata": {
  "kernelspec": {
   "display_name": "mcfacts-dev",
   "language": "python",
   "name": "python3"
  },
  "language_info": {
   "codemirror_mode": {
    "name": "ipython",
    "version": 3
   },
   "file_extension": ".py",
   "mimetype": "text/x-python",
   "name": "python",
   "nbconvert_exporter": "python",
   "pygments_lexer": "ipython3",
   "version": "3.12.0"
  }
 },
 "nbformat": 4,
 "nbformat_minor": 2
}
